{
 "cells": [
  {
   "cell_type": "code",
   "execution_count": 7,
   "id": "3691872f-5268-4c2d-842d-ff79275da62a",
   "metadata": {},
   "outputs": [
    {
     "name": "stdout",
     "output_type": "stream",
     "text": [
      "   num  squares  cubes\n",
      "0    1        1      1\n",
      "1    2        4      8\n",
      "2    3        9     27\n",
      "3    4       16     64\n",
      "4    5       25    125\n",
      "5    6       36    216\n",
      "6    7       49    343\n",
      "7    8       64    512\n",
      "8    9       81    729\n",
      "9   10      100   1000\n"
     ]
    }
   ],
   "source": [
    "import pandas as pd\n",
    "df=pd.DataFrame()\n",
    "l1=[i for i in range(1,11)]\n",
    "l2=[i*i for i in range(1,11)]\n",
    "l3=[i*i*i for i in range(1,11)]\n",
    "data=zip(l1,l2,l3)\n",
    "df=pd.DataFrame(data,columns=['num','squares','cubes'])\n",
    "print(df)"
   ]
  },
  {
   "cell_type": "code",
   "execution_count": 11,
   "id": "1419677f-a63e-4183-813e-350fd7ff6482",
   "metadata": {},
   "outputs": [
    {
     "name": "stdout",
     "output_type": "stream",
     "text": [
      "    num  squares  cubes\n",
      "1     1        1      1\n",
      "2     2        4      8\n",
      "3     3        9     27\n",
      "4     4       16     64\n",
      "5     5       25    125\n",
      "6     6       36    216\n",
      "7     7       49    343\n",
      "8     8       64    512\n",
      "9     9       81    729\n",
      "10   10      100   1000\n"
     ]
    }
   ],
   "source": [
    "import pandas as pd\n",
    "df=pd.DataFrame()\n",
    "l1=[i for i in range(1,11)]\n",
    "l2=[i*i for i in range(1,11)]\n",
    "l3=[i*i*i for i in range(1,11)]\n",
    "data=zip(l1,l2,l3)\n",
    "ind=[1,2,3,4,5,6,7,8,9,10]\n",
    "df=pd.DataFrame(data,index=ind,columns=['num','squares','cubes'])\n",
    "print(df)"
   ]
  },
  {
   "cell_type": "code",
   "execution_count": 20,
   "id": "0cddabad-560f-43ce-9d57-696f711753cf",
   "metadata": {},
   "outputs": [
    {
     "name": "stdout",
     "output_type": "stream",
     "text": [
      "[1, 2, 3, 4, 5, 6, 7, 8, 9, 10]\n",
      "    num  squares  cubes\n",
      "1     1        1      1\n",
      "2     2        4      8\n",
      "3     3        9     27\n",
      "4     4       16     64\n",
      "5     5       25    125\n",
      "6     6       36    216\n",
      "7     7       49    343\n",
      "8     8       64    512\n",
      "9     9       81    729\n",
      "10   10      100   1000\n"
     ]
    }
   ],
   "source": [
    "import pandas as pd\n",
    "df=pd.DataFrame()\n",
    "l1=[i for i in range(1,11)]\n",
    "l2=[i*i for i in range(1,11)]\n",
    "l3=[i*i*i for i in range(1,11)]\n",
    "data=zip(l1,l2,l3)\n",
    "ind=[]\n",
    "for j in range(1,11):\n",
    "    ind.append(j)\n",
    "print(ind)\n",
    "df=pd.DataFrame(data,index=ind,columns=['num','squares','cubes'])\n",
    "print(df)"
   ]
  },
  {
   "cell_type": "code",
   "execution_count": 1,
   "id": "d7b533a7-fa13-4a53-a5da-fb6b42d3b2a3",
   "metadata": {},
   "outputs": [
    {
     "name": "stdout",
     "output_type": "stream",
     "text": [
      "   num  sqare  cube\n",
      "0    1      1     1\n",
      "1    2      4     8\n",
      "2    3      9    27\n",
      "3    4     16    64\n",
      "4    5     25   125\n",
      "5    6     36   216\n",
      "6    7     49   343\n",
      "7    8     64   512\n",
      "8    9     81   729\n"
     ]
    }
   ],
   "source": [
    "import pandas as pd\n",
    "df1=pd.DataFrame()\n",
    "l1=[i for i in range(1,10)]\n",
    "l2=[i**2 for i in range(1,10)]\n",
    "l3=[i**3 for i in range(1,10)]\n",
    "df1['num']=l1\n",
    "df1['sqare']=l2\n",
    "df1['cube']=l3\n",
    "print(df1)\n"
   ]
  },
  {
   "cell_type": "markdown",
   "id": "c0edbd38-3a00-4e59-9d6a-ebca9b74eacd",
   "metadata": {},
   "source": [
    "##step 6\n",
    " * update already existed column\n",
    "* create new column\n",
    "* \n",
    "* update existed column the column name should be defined \n"
   ]
  },
  {
   "cell_type": "code",
   "execution_count": 18,
   "id": "dd40801b-af4b-4b4b-a71b-67f2045421fd",
   "metadata": {},
   "outputs": [
    {
     "name": "stdout",
     "output_type": "stream",
     "text": [
      "   age\n",
      "0   12\n",
      "1   23\n",
      "2   34\n",
      "3   45\n",
      "4   56\n"
     ]
    }
   ],
   "source": [
    "import pandas as pd\n",
    "df=pd.DataFrame()\n",
    "age=[11,22,33,44,55]\n",
    "#updating\n",
    "df['age']=[12,23,34,45,56]\n",
    "\n",
    "print(df)\n"
   ]
  },
  {
   "cell_type": "markdown",
   "id": "111c8a71-cb11-407e-9783-f98b7d789670",
   "metadata": {},
   "source": [
    "**step7**\n",
    "- how to drop the column\n",
    "- df1.columns"
   ]
  },
  {
   "cell_type": "code",
   "execution_count": 24,
   "id": "68d0e1dd-fb58-4c5c-968c-1178725dfca3",
   "metadata": {},
   "outputs": [
    {
     "data": {
      "text/plain": [
       "Index(['X', 'Y', 'Z'], dtype='object')"
      ]
     },
     "execution_count": 24,
     "metadata": {},
     "output_type": "execute_result"
    }
   ],
   "source": [
    "df1.columns"
   ]
  },
  {
   "cell_type": "code",
   "execution_count": null,
   "id": "9619e303-e47e-4b36-bf36-fbf3ef44a981",
   "metadata": {},
   "outputs": [],
   "source": [
    "inplace()\n",
    "inplace will provide overwrite the dataframe or not\n",
    "inplace=true =indicates that the dataframe can be overwrite\n",
    "inplace =false=indicates the modified dataframe will be used when u provide new variable for the operation"
   ]
  },
  {
   "cell_type": "code",
   "execution_count": 38,
   "id": "2a2e28fc-bb6d-4955-8e13-570e7c75249a",
   "metadata": {},
   "outputs": [
    {
     "ename": "AttributeError",
     "evalue": "'NoneType' object has no attribute 'drop'",
     "output_type": "error",
     "traceback": [
      "\u001b[1;31m---------------------------------------------------------------------------\u001b[0m",
      "\u001b[1;31mAttributeError\u001b[0m                            Traceback (most recent call last)",
      "Cell \u001b[1;32mIn[38], line 1\u001b[0m\n\u001b[1;32m----> 1\u001b[0m df1\u001b[38;5;241m.\u001b[39mdrop(\u001b[38;5;124m'\u001b[39m\u001b[38;5;124mX\u001b[39m\u001b[38;5;124m'\u001b[39m,axis\u001b[38;5;241m=\u001b[39m\u001b[38;5;241m1\u001b[39m,inplace\u001b[38;5;241m=\u001b[39m\u001b[38;5;28;01mTrue\u001b[39;00m)\n",
      "\u001b[1;31mAttributeError\u001b[0m: 'NoneType' object has no attribute 'drop'"
     ]
    }
   ],
   "source": [
    "df1.drop('X',axis=1,inplace=True)\n"
   ]
  },
  {
   "cell_type": "code",
   "execution_count": null,
   "id": "00e85ae7-8acd-4743-aa64-d1b8679ad366",
   "metadata": {},
   "outputs": [],
   "source": []
  }
 ],
 "metadata": {
  "kernelspec": {
   "display_name": "Python 3 (ipykernel)",
   "language": "python",
   "name": "python3"
  },
  "language_info": {
   "codemirror_mode": {
    "name": "ipython",
    "version": 3
   },
   "file_extension": ".py",
   "mimetype": "text/x-python",
   "name": "python",
   "nbconvert_exporter": "python",
   "pygments_lexer": "ipython3",
   "version": "3.11.7"
  }
 },
 "nbformat": 4,
 "nbformat_minor": 5
}
